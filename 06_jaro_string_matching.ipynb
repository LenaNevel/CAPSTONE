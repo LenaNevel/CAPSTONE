{
 "cells": [
  {
   "cell_type": "code",
   "execution_count": 1,
   "metadata": {},
   "outputs": [],
   "source": [
    "from jellyfish import jaro_distance\n",
    "import pandas as pd"
   ]
  },
  {
   "cell_type": "code",
   "execution_count": 2,
   "metadata": {},
   "outputs": [],
   "source": [
    "products = pd.read_csv('./data/products_clean_eda.csv')"
   ]
  },
  {
   "cell_type": "code",
   "execution_count": 3,
   "metadata": {},
   "outputs": [
    {
     "data": {
      "text/html": [
       "<div>\n",
       "<style scoped>\n",
       "    .dataframe tbody tr th:only-of-type {\n",
       "        vertical-align: middle;\n",
       "    }\n",
       "\n",
       "    .dataframe tbody tr th {\n",
       "        vertical-align: top;\n",
       "    }\n",
       "\n",
       "    .dataframe thead th {\n",
       "        text-align: right;\n",
       "    }\n",
       "</style>\n",
       "<table border=\"1\" class=\"dataframe\">\n",
       "  <thead>\n",
       "    <tr style=\"text-align: right;\">\n",
       "      <th></th>\n",
       "      <th>name</th>\n",
       "      <th>brand</th>\n",
       "      <th>category</th>\n",
       "      <th>price</th>\n",
       "      <th>ingredients</th>\n",
       "      <th>no_reviews</th>\n",
       "      <th>hearts</th>\n",
       "      <th>size1</th>\n",
       "      <th>size2</th>\n",
       "      <th>url</th>\n",
       "      <th>final_size</th>\n",
       "      <th>price_per_ounce</th>\n",
       "    </tr>\n",
       "  </thead>\n",
       "  <tbody>\n",
       "    <tr>\n",
       "      <th>0</th>\n",
       "      <td>Protini™ Polypeptide Moisturizer</td>\n",
       "      <td>Drunk Elephant</td>\n",
       "      <td>moisturizing-cream-oils-mists</td>\n",
       "      <td>68.0</td>\n",
       "      <td>Dicaprylyl Carbonate, Glycerin, Cetearyl Alcoh...</td>\n",
       "      <td>3000</td>\n",
       "      <td>216935</td>\n",
       "      <td>1.69</td>\n",
       "      <td>0.0</td>\n",
       "      <td>https://www.sephora.com/product/protini-tm-pol...</td>\n",
       "      <td>1.69</td>\n",
       "      <td>40.236686</td>\n",
       "    </tr>\n",
       "    <tr>\n",
       "      <th>1</th>\n",
       "      <td>The Water Cream</td>\n",
       "      <td>Tatcha</td>\n",
       "      <td>moisturizing-cream-oils-mists</td>\n",
       "      <td>68.0</td>\n",
       "      <td>Dicaprylyl Carbonate, Glycerin, Cetearyl Alcoh...</td>\n",
       "      <td>2000</td>\n",
       "      <td>197492</td>\n",
       "      <td>0.00</td>\n",
       "      <td>1.7</td>\n",
       "      <td>https://www.sephora.com/product/the-water-crea...</td>\n",
       "      <td>1.70</td>\n",
       "      <td>40.000000</td>\n",
       "    </tr>\n",
       "  </tbody>\n",
       "</table>\n",
       "</div>"
      ],
      "text/plain": [
       "                               name           brand  \\\n",
       "0  Protini™ Polypeptide Moisturizer  Drunk Elephant   \n",
       "1                   The Water Cream          Tatcha   \n",
       "\n",
       "                        category  price  \\\n",
       "0  moisturizing-cream-oils-mists   68.0   \n",
       "1  moisturizing-cream-oils-mists   68.0   \n",
       "\n",
       "                                         ingredients  no_reviews  hearts  \\\n",
       "0  Dicaprylyl Carbonate, Glycerin, Cetearyl Alcoh...        3000  216935   \n",
       "1  Dicaprylyl Carbonate, Glycerin, Cetearyl Alcoh...        2000  197492   \n",
       "\n",
       "   size1  size2                                                url  \\\n",
       "0   1.69    0.0  https://www.sephora.com/product/protini-tm-pol...   \n",
       "1   0.00    1.7  https://www.sephora.com/product/the-water-crea...   \n",
       "\n",
       "   final_size  price_per_ounce  \n",
       "0        1.69        40.236686  \n",
       "1        1.70        40.000000  "
      ]
     },
     "execution_count": 3,
     "metadata": {},
     "output_type": "execute_result"
    }
   ],
   "source": [
    "products.head(2)"
   ]
  },
  {
   "cell_type": "code",
   "execution_count": 4,
   "metadata": {},
   "outputs": [
    {
     "data": {
      "text/plain": [
       "4633"
      ]
     },
     "execution_count": 4,
     "metadata": {},
     "output_type": "execute_result"
    }
   ],
   "source": [
    "all_ingredients = []\n",
    "\n",
    "for i in products.index:\n",
    "    list_ingredients = products.ingredients[i].split(', ')\n",
    "    for j in list_ingredients:     \n",
    "        all_ingredients.append(j.strip().lower())\n",
    "\n",
    "ingredients = pd.DataFrame([(x,all_ingredients.count(x)) for x in set(all_ingredients)],\n",
    "                           columns = ['ingredient', 'count']).sort_values(by='ingredient')\n",
    "len(set(ingredients.ingredient))"
   ]
  },
  {
   "cell_type": "code",
   "execution_count": null,
   "metadata": {},
   "outputs": [],
   "source": [
    "fuzzy = []\n",
    "for i in ingredients.ingredient:\n",
    "    for j in ingredients.ingredient:\n",
    "        fuzzy.append((i, j, jaro_distance(i, j),\n",
    "                     ingredients[ingredients.ingredient == i]['count'].values[0],\n",
    "                     ingredients[ingredients.ingredient == j]['count'].values[0]))\n",
    "fuzzy_ratio = pd.DataFrame(fuzzy, columns = ['ingredient1', 'ingredients2', 'ratio', 'word1 count', 'word2 count'])\n",
    "fuzzy_ratio"
   ]
  },
  {
   "cell_type": "code",
   "execution_count": null,
   "metadata": {},
   "outputs": [],
   "source": []
  }
 ],
 "metadata": {
  "kernelspec": {
   "display_name": "Python [conda env:root] *",
   "language": "python",
   "name": "conda-root-py"
  },
  "language_info": {
   "codemirror_mode": {
    "name": "ipython",
    "version": 3
   },
   "file_extension": ".py",
   "mimetype": "text/x-python",
   "name": "python",
   "nbconvert_exporter": "python",
   "pygments_lexer": "ipython3",
   "version": "3.7.4"
  }
 },
 "nbformat": 4,
 "nbformat_minor": 2
}
