{
 "cells": [
  {
   "cell_type": "markdown",
   "metadata": {},
   "source": [
    "# Capstone: Sephora. Predicting prices based on Ingredients"
   ]
  },
  {
   "cell_type": "markdown",
   "metadata": {},
   "source": [
    "## Problem description\n",
    "\n",
    "It is an assumption customers make that their skin care product price is dependent on the ingredients in this product. The goal of my projects is to see if I can predict prices of the products based on the ingredients. To accomplish this goal, I first had to gather my data. I used Sephora.com data for this."
   ]
  },
  {
   "cell_type": "markdown",
   "metadata": {},
   "source": [
    "### Project Structure:\n",
    "- Notebook 0. Selenium URL Collection\n",
    "- Notebook 1. Saving data from URL to an HTML file\n",
    "- Notebook 2. Collecting Product Data\n",
    "- Notebook 3. Data Cleaning \n",
    "- Notebook 4. EDA\n",
    "- Notebook 5. Fuzzy String Matching\n",
    "- Notebook 6. Regression Modeling\n",
    "- Notebook 7. Classification Modeling"
   ]
  },
  {
   "cell_type": "code",
   "execution_count": 1,
   "metadata": {},
   "outputs": [],
   "source": [
    "import pandas as pd\n",
    "from bs4 import BeautifulSoup\n",
    "import csv"
   ]
  },
  {
   "cell_type": "code",
   "execution_count": 2,
   "metadata": {},
   "outputs": [
    {
     "data": {
      "text/html": [
       "<div>\n",
       "<style scoped>\n",
       "    .dataframe tbody tr th:only-of-type {\n",
       "        vertical-align: middle;\n",
       "    }\n",
       "\n",
       "    .dataframe tbody tr th {\n",
       "        vertical-align: top;\n",
       "    }\n",
       "\n",
       "    .dataframe thead th {\n",
       "        text-align: right;\n",
       "    }\n",
       "</style>\n",
       "<table border=\"1\" class=\"dataframe\">\n",
       "  <thead>\n",
       "    <tr style=\"text-align: right;\">\n",
       "      <th></th>\n",
       "      <th>category</th>\n",
       "      <th>URL</th>\n",
       "    </tr>\n",
       "  </thead>\n",
       "  <tbody>\n",
       "    <tr>\n",
       "      <th>0</th>\n",
       "      <td>moisturizing-cream-oils-mists</td>\n",
       "      <td>https://www.sephora.com/product/protini-tm-pol...</td>\n",
       "    </tr>\n",
       "    <tr>\n",
       "      <th>1</th>\n",
       "      <td>moisturizing-cream-oils-mists</td>\n",
       "      <td>https://www.sephora.com/product/the-water-crea...</td>\n",
       "    </tr>\n",
       "    <tr>\n",
       "      <th>2</th>\n",
       "      <td>moisturizing-cream-oils-mists</td>\n",
       "      <td>https://www.sephora.com/product/ultra-facial-c...</td>\n",
       "    </tr>\n",
       "    <tr>\n",
       "      <th>3</th>\n",
       "      <td>moisturizing-cream-oils-mists</td>\n",
       "      <td>https://www.sephora.com/product/your-skin-but-...</td>\n",
       "    </tr>\n",
       "    <tr>\n",
       "      <th>4</th>\n",
       "      <td>moisturizing-cream-oils-mists</td>\n",
       "      <td>https://www.sephora.com/product/the-dewy-skin-...</td>\n",
       "    </tr>\n",
       "    <tr>\n",
       "      <th>...</th>\n",
       "      <td>...</td>\n",
       "      <td>...</td>\n",
       "    </tr>\n",
       "    <tr>\n",
       "      <th>2763</th>\n",
       "      <td>lip-treatments</td>\n",
       "      <td>https://www.sephora.com/product/dual-nourishin...</td>\n",
       "    </tr>\n",
       "    <tr>\n",
       "      <th>2764</th>\n",
       "      <td>lip-treatments</td>\n",
       "      <td>https://www.sephora.com/product/butterstick-li...</td>\n",
       "    </tr>\n",
       "    <tr>\n",
       "      <th>2765</th>\n",
       "      <td>lip-treatments</td>\n",
       "      <td>https://www.sephora.com/product/lip-lock-primi...</td>\n",
       "    </tr>\n",
       "    <tr>\n",
       "      <th>2766</th>\n",
       "      <td>lip-treatments</td>\n",
       "      <td>https://www.sephora.com/product/kiss-mix-P4039...</td>\n",
       "    </tr>\n",
       "    <tr>\n",
       "      <th>2767</th>\n",
       "      <td>lip-treatments</td>\n",
       "      <td>https://www.sephora.com/product/stick-to-story...</td>\n",
       "    </tr>\n",
       "  </tbody>\n",
       "</table>\n",
       "<p>2768 rows × 2 columns</p>\n",
       "</div>"
      ],
      "text/plain": [
       "                           category  \\\n",
       "0     moisturizing-cream-oils-mists   \n",
       "1     moisturizing-cream-oils-mists   \n",
       "2     moisturizing-cream-oils-mists   \n",
       "3     moisturizing-cream-oils-mists   \n",
       "4     moisturizing-cream-oils-mists   \n",
       "...                             ...   \n",
       "2763                 lip-treatments   \n",
       "2764                 lip-treatments   \n",
       "2765                 lip-treatments   \n",
       "2766                 lip-treatments   \n",
       "2767                 lip-treatments   \n",
       "\n",
       "                                                    URL  \n",
       "0     https://www.sephora.com/product/protini-tm-pol...  \n",
       "1     https://www.sephora.com/product/the-water-crea...  \n",
       "2     https://www.sephora.com/product/ultra-facial-c...  \n",
       "3     https://www.sephora.com/product/your-skin-but-...  \n",
       "4     https://www.sephora.com/product/the-dewy-skin-...  \n",
       "...                                                 ...  \n",
       "2763  https://www.sephora.com/product/dual-nourishin...  \n",
       "2764  https://www.sephora.com/product/butterstick-li...  \n",
       "2765  https://www.sephora.com/product/lip-lock-primi...  \n",
       "2766  https://www.sephora.com/product/kiss-mix-P4039...  \n",
       "2767  https://www.sephora.com/product/stick-to-story...  \n",
       "\n",
       "[2768 rows x 2 columns]"
      ]
     },
     "execution_count": 2,
     "metadata": {},
     "output_type": "execute_result"
    }
   ],
   "source": [
    "#reading in the urls gathered in 01_getting_soups.ipynb\n",
    "urls = pd.read_csv('./data/product_urls2.csv')\n",
    "urls"
   ]
  },
  {
   "cell_type": "code",
   "execution_count": 3,
   "metadata": {},
   "outputs": [],
   "source": [
    "#opening a new csv file with headers\n",
    "header = ['name', 'brand', 'category', 'price', 'ingredients', 'no_reviews', 'hearts', 'size1', 'size2', 'url']\n",
    "\n",
    "with open('./data/product_info.csv', \"w\", newline='') as f:\n",
    "    writer = csv.writer(f, delimiter=',')\n",
    "    writer.writerow(header) # write the header"
   ]
  },
  {
   "cell_type": "code",
   "execution_count": 6,
   "metadata": {},
   "outputs": [],
   "source": [
    "for i in range(1629, 2768):\n",
    "#for i in urls.index:\n",
    "    products = [] #empty list to append the dictionary in to before passing in to a DataFrame\n",
    "    #setting the path to the the html files\n",
    "    path = \"./data/soups/soup\"+str(i)+\".html\"\n",
    "    #opening and reading the file\n",
    "    file_path = open(path, 'rb')\n",
    "    file_read = file_path.read()\n",
    "    #creating a new soup from it\n",
    "    soup = BeautifulSoup(file_read)\n",
    "    #gathering the data from the pages\n",
    "    try:   \n",
    "              \n",
    "        product = {}\n",
    "        product['name'] = soup.find('span', {'class': 'css-0'}).text\n",
    "        product['brand'] = soup.find('span', {'class': 'css-euydo4'}).text\n",
    "        product['category'] = urls.category[i]\n",
    "        product['price'] = soup.find('div', {'class': 'css-slwsq8'}).text\n",
    "        product['ingredients'] = soup.find('div', {'id': 'tabpanel2'})\n",
    "        #product['ingredients'] = str(ingredients).split('<br/>') #will need to break during cleaning\n",
    "        product['no_reviews'] = soup.find_all('span', {'class': 'css-2rg6q7'})[0].text\n",
    "        product['hearts'] = soup.find('span', {'data-at': 'product_love_count'}).text\n",
    "        #the product size has two different formats on the pages\n",
    "        product['size1'] = size = soup.find('div', {'class': 'css-v7k1z0'}).text\n",
    "        try:\n",
    "            product['size2'] = soup.find('span', {'class': 'css-ng5oyv'}).text\n",
    "        except:\n",
    "            product['size2'] = '0'\n",
    "        product['url'] = urls.URL[i]\n",
    "    \n",
    "        #append the empty list to later make in to a dataframe\n",
    "        products.append(product)\n",
    "        product_df = pd.DataFrame(products) \n",
    "        #append in the csv file that created above\n",
    "        product_df.to_csv('./data/product_info.csv', mode='a', index = False, header = False)\n",
    "\n",
    "    except: #if the page no longer existed when gathered html\n",
    "        pass\n",
    "   \n",
    "    \n",
    "\n"
   ]
  },
  {
   "cell_type": "code",
   "execution_count": null,
   "metadata": {},
   "outputs": [],
   "source": []
  }
 ],
 "metadata": {
  "kernelspec": {
   "display_name": "Python 3",
   "language": "python",
   "name": "python3"
  },
  "language_info": {
   "codemirror_mode": {
    "name": "ipython",
    "version": 3
   },
   "file_extension": ".py",
   "mimetype": "text/x-python",
   "name": "python",
   "nbconvert_exporter": "python",
   "pygments_lexer": "ipython3",
   "version": "3.7.4"
  }
 },
 "nbformat": 4,
 "nbformat_minor": 2
}
