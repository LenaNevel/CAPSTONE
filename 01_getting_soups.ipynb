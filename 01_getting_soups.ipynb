{
 "cells": [
  {
   "cell_type": "markdown",
   "metadata": {},
   "source": [
    "# Capstone: Sephora. Predicting prices based on Ingredients"
   ]
  },
  {
   "cell_type": "markdown",
   "metadata": {},
   "source": [
    "## Problem description\n",
    "\n",
    "It is an assumption customers make that their skin care product price is dependent on the ingredients in this product. The goal of my projects is to see if I can predict prices of the products based on the ingredients. To accomplish this goal, I first had to gather my data. I used Sephora.com data for this."
   ]
  },
  {
   "cell_type": "markdown",
   "metadata": {},
   "source": [
    "### Project Structure:\n",
    "- Notebook 0. Selenium URL Collection\n",
    "- Notebook 1. Saving data from URL to an HTML file\n",
    "- Notebook 2. Collecting Product Data\n",
    "- Notebook 3. Data Cleaning \n",
    "- Notebook 4. EDA\n",
    "- Notebook 5. Fuzzy String Matching\n",
    "- Notebook 6. Regression Modeling\n",
    "- Notebook 7. Classification Modeling"
   ]
  },
  {
   "cell_type": "code",
   "execution_count": null,
   "metadata": {},
   "outputs": [],
   "source": []
  },
  {
   "cell_type": "code",
   "execution_count": 3,
   "metadata": {},
   "outputs": [],
   "source": [
    "import pandas as pd\n",
    "import numpy as np\n",
    "import requests\n",
    "from bs4 import BeautifulSoup\n",
    "import time"
   ]
  },
  {
   "cell_type": "code",
   "execution_count": 4,
   "metadata": {},
   "outputs": [
    {
     "data": {
      "text/html": [
       "<div>\n",
       "<style scoped>\n",
       "    .dataframe tbody tr th:only-of-type {\n",
       "        vertical-align: middle;\n",
       "    }\n",
       "\n",
       "    .dataframe tbody tr th {\n",
       "        vertical-align: top;\n",
       "    }\n",
       "\n",
       "    .dataframe thead th {\n",
       "        text-align: right;\n",
       "    }\n",
       "</style>\n",
       "<table border=\"1\" class=\"dataframe\">\n",
       "  <thead>\n",
       "    <tr style=\"text-align: right;\">\n",
       "      <th></th>\n",
       "      <th>category</th>\n",
       "      <th>URL</th>\n",
       "    </tr>\n",
       "  </thead>\n",
       "  <tbody>\n",
       "    <tr>\n",
       "      <th>0</th>\n",
       "      <td>moisturizing-cream-oils-mists</td>\n",
       "      <td>https://www.sephora.com/product/protini-tm-pol...</td>\n",
       "    </tr>\n",
       "    <tr>\n",
       "      <th>1</th>\n",
       "      <td>moisturizing-cream-oils-mists</td>\n",
       "      <td>https://www.sephora.com/product/the-water-crea...</td>\n",
       "    </tr>\n",
       "    <tr>\n",
       "      <th>2</th>\n",
       "      <td>moisturizing-cream-oils-mists</td>\n",
       "      <td>https://www.sephora.com/product/ultra-facial-c...</td>\n",
       "    </tr>\n",
       "    <tr>\n",
       "      <th>3</th>\n",
       "      <td>moisturizing-cream-oils-mists</td>\n",
       "      <td>https://www.sephora.com/product/your-skin-but-...</td>\n",
       "    </tr>\n",
       "    <tr>\n",
       "      <th>4</th>\n",
       "      <td>moisturizing-cream-oils-mists</td>\n",
       "      <td>https://www.sephora.com/product/the-dewy-skin-...</td>\n",
       "    </tr>\n",
       "  </tbody>\n",
       "</table>\n",
       "</div>"
      ],
      "text/plain": [
       "                        category  \\\n",
       "0  moisturizing-cream-oils-mists   \n",
       "1  moisturizing-cream-oils-mists   \n",
       "2  moisturizing-cream-oils-mists   \n",
       "3  moisturizing-cream-oils-mists   \n",
       "4  moisturizing-cream-oils-mists   \n",
       "\n",
       "                                                 URL  \n",
       "0  https://www.sephora.com/product/protini-tm-pol...  \n",
       "1  https://www.sephora.com/product/the-water-crea...  \n",
       "2  https://www.sephora.com/product/ultra-facial-c...  \n",
       "3  https://www.sephora.com/product/your-skin-but-...  \n",
       "4  https://www.sephora.com/product/the-dewy-skin-...  "
      ]
     },
     "execution_count": 4,
     "metadata": {},
     "output_type": "execute_result"
    }
   ],
   "source": [
    "#reading in the urls I scraped in 00_getting_slugs.ipynb\n",
    "urls = pd.read_csv('./data/product_urls2.csv')\n",
    "urls.head()"
   ]
  },
  {
   "cell_type": "code",
   "execution_count": 5,
   "metadata": {},
   "outputs": [],
   "source": [
    "#it took a few days to scrape this since there were so many URLs to scrape and after a while it would throw a\n",
    "#HTTPSConnectionPool(host='www.sephora.com', port=443): Max retries exceeded with url error\n",
    "\n",
    "\n",
    "#for i in range(1310, 2768):\n",
    "#for i in range(681, 2767):\n",
    "for i in urls.index: #for every URL in my urls dataframe\n",
    "    url = urls.URL[i]\n",
    "    res = requests.get(url)\n",
    "    time.sleep(10) #taking a break before moving on so that Sephora doesn't block\n",
    "    #if request fails print the error\n",
    "    if res.status_code != 200:\n",
    "        print('error when requestion {}'.format(url))\n",
    "        break\n",
    "        \n",
    "    soup = BeautifulSoup(res.content, 'html.parser') #getting the soup of the requested URL data\n",
    "    \n",
    "    path = \"./data/soups/soup\"+str(i)+\".html\"\n",
    "    \n",
    "    with open(path, 'w') as f: #saving soup as an .html file for later use\n",
    "        f.write(str(soup))"
   ]
  }
 ],
 "metadata": {
  "kernelspec": {
   "display_name": "Python [conda env:root] *",
   "language": "python",
   "name": "conda-root-py"
  },
  "language_info": {
   "codemirror_mode": {
    "name": "ipython",
    "version": 3
   },
   "file_extension": ".py",
   "mimetype": "text/x-python",
   "name": "python",
   "nbconvert_exporter": "python",
   "pygments_lexer": "ipython3",
   "version": "3.7.4"
  }
 },
 "nbformat": 4,
 "nbformat_minor": 2
}
